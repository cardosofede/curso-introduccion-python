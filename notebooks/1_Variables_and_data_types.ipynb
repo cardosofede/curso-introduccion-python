{
 "cells": [
  {
   "cell_type": "markdown",
   "metadata": {
    "id": "tprjt10F4ruM"
   },
   "source": [
    "# **Bienvenidos a la introducción de Python con Google Colab!**\n",
    "\n",
    "Vamos a iniciar el curso desde conceptos básicos como imprimir un texto en la consola e ir avanzando en el mismo hasta aprender a manejar estructuras de datos.\n",
    "\n",
    "Para poder imprimir un dato, variable o texto en la consola debemos utilizar la siguiente sentencia:\n",
    "```\n",
    "      print('Lo que se desee imprimir')\n",
    "```\n",
    "\n",
    "Estas listo para escribir tu primera linea de código en Python?"
   ]
  },
  {
   "cell_type": "code",
   "execution_count": null,
   "metadata": {
    "id": "zgqIcDAU4ruO"
   },
   "outputs": [],
   "source": [
    "print('Hola!!')"
   ]
  },
  {
   "cell_type": "markdown",
   "metadata": {
    "id": "JxNB1nOP4ruP"
   },
   "source": [
    "**Ahora es tu turno de probar, intenta imprimir tu nombre en la consola:**\n",
    "\n",
    "*IMPORTANTE: en colab tenemos varias formas para ejecutar un código, como ya sabemos una posibilidad es tocar el boton de Play de la celda probemos que pasa si utilizamos:\n",
    "\n",
    "\n",
    "\n",
    "1.   **Cmd/Ctrl+Enter**\n",
    "2.   **Shift+Enter**\n",
    "3.   **Alt+Enter**\n"
   ]
  },
  {
   "cell_type": "code",
   "execution_count": null,
   "metadata": {
    "id": "7cT1v6c24ruQ"
   },
   "outputs": [],
   "source": [
    "print(\"Fede\")"
   ]
  },
  {
   "cell_type": "code",
   "source": [
    "print(\"Pythonauta\")"
   ],
   "metadata": {
    "id": "sJNe7sE35wqb"
   },
   "execution_count": null,
   "outputs": []
  },
  {
   "cell_type": "markdown",
   "metadata": {
    "id": "tMR5G4pW4ruQ"
   },
   "source": [
    "## Tipos de datos\n",
    "\n",
    "*   float - numeros reales\n",
    "*   int - numeros enteros\n",
    "*   str - string, texto\n",
    "*   bool - True, False\n",
    "\n",
    "Con la función type(), podemos saber que tipo de dato es cada uno, averiguemos a cuales corresponden los siguientes ejemplos:"
   ]
  },
  {
   "cell_type": "code",
   "execution_count": null,
   "metadata": {
    "id": "Legv0ZNC4ruQ"
   },
   "outputs": [],
   "source": [
    "type(5.5)"
   ]
  },
  {
   "cell_type": "code",
   "execution_count": null,
   "metadata": {
    "id": "WBhIi3qn4ruQ"
   },
   "outputs": [],
   "source": [
    "type(20)"
   ]
  },
  {
   "cell_type": "code",
   "execution_count": null,
   "metadata": {
    "id": "IzvYkyqP4ruR"
   },
   "outputs": [],
   "source": [
    "type(\"Las cadenas de textos siempre van entre comillas, pueden ser simples o dobles, lo importante es que sea la misma la que abre y cierra el string\")"
   ]
  },
  {
   "cell_type": "code",
   "execution_count": null,
   "metadata": {
    "id": "0LfjS9Yr4ruR"
   },
   "outputs": [],
   "source": [
    "type(True) # con el numeral se pueden adicionar comentarios al código como este."
   ]
  },
  {
   "cell_type": "markdown",
   "metadata": {
    "id": "UQ37h1me4ruR"
   },
   "source": [
    "## Operaciones básicas\n",
    "\n",
    "Para poder realizar operaciones con los datos, Python trae una serie de operadores conocidos por todos que nos van a permitir sumar, restar, dividir, multiplicar, etc.\n",
    "\n",
    "Esto no solo aplica para los numeros, sino que tambien se pueden utilizar con otros tipos de datos, vamos a ver unos ejemplos:"
   ]
  },
  {
   "cell_type": "markdown",
   "metadata": {
    "id": "UIx1ecL94ruR"
   },
   "source": [
    "### Suma y resta:"
   ]
  },
  {
   "cell_type": "code",
   "execution_count": null,
   "metadata": {
    "id": "V9i16Q2r4ruS"
   },
   "outputs": [],
   "source": [
    "# sumamos dos int\n",
    "\n",
    "4 + 5"
   ]
  },
  {
   "cell_type": "code",
   "execution_count": null,
   "metadata": {
    "id": "VBfqswr_4ruS"
   },
   "outputs": [],
   "source": [
    "# restamos dos float\n",
    "\n",
    "4.7 - 3.5"
   ]
  },
  {
   "cell_type": "code",
   "execution_count": null,
   "metadata": {
    "id": "ramVoYUK4ruS"
   },
   "outputs": [],
   "source": [
    "# sumamos dos cadenas de texto\n",
    "\n",
    "print('Que bueno que Python me permite sumar cadenas de texto' + ' de una menera muy sencilla!')"
   ]
  },
  {
   "cell_type": "code",
   "execution_count": null,
   "metadata": {
    "id": "a2AiTkLP4ruS"
   },
   "outputs": [],
   "source": [
    "# que creen que ocurre si restamos dos boolean?\n",
    "\n",
    "True - True"
   ]
  },
  {
   "cell_type": "code",
   "execution_count": null,
   "metadata": {
    "id": "lvKi-gbF4ruS"
   },
   "outputs": [],
   "source": [
    "# y si sumamos un boolean con un int?\n",
    "\n",
    "True + 9"
   ]
  },
  {
   "cell_type": "markdown",
   "metadata": {
    "id": "qSlWgL154ruS"
   },
   "source": [
    "### Multiplcación y division:"
   ]
  },
  {
   "cell_type": "code",
   "execution_count": null,
   "metadata": {
    "id": "JNGADMDH4ruS"
   },
   "outputs": [],
   "source": [
    "# dividimos dos int\n",
    "\n",
    "5 / 5"
   ]
  },
  {
   "cell_type": "code",
   "execution_count": null,
   "metadata": {
    "id": "uuZgX5X04ruT"
   },
   "outputs": [],
   "source": [
    "#verifiquemos que tipo de dato es el resultante...\n",
    "\n",
    "type(5 / 5)"
   ]
  },
  {
   "cell_type": "code",
   "execution_count": null,
   "metadata": {
    "id": "D3LbGKAE4ruT"
   },
   "outputs": [],
   "source": [
    "# si utilizamos doble barra de division que dato creen que nos esta entregando?\n",
    "\n",
    "9 // 2"
   ]
  },
  {
   "cell_type": "code",
   "source": [
    "9 / 2"
   ],
   "metadata": {
    "id": "CfFz28eX7f-g"
   },
   "execution_count": null,
   "outputs": []
  },
  {
   "cell_type": "code",
   "source": [
    "9 % 2"
   ],
   "metadata": {
    "id": "udSbO_497i_2"
   },
   "execution_count": null,
   "outputs": []
  },
  {
   "cell_type": "code",
   "execution_count": null,
   "metadata": {
    "id": "stmCWTKa4ruT"
   },
   "outputs": [],
   "source": [
    "# y si utilizamos el %?\n",
    "\n",
    "5 % 2"
   ]
  },
  {
   "cell_type": "code",
   "execution_count": null,
   "metadata": {
    "id": "mvCar6co4ruT"
   },
   "outputs": [],
   "source": [
    "# realizamos una multiplicación entre dos enteros\n",
    "\n",
    "5 * 5"
   ]
  },
  {
   "cell_type": "code",
   "execution_count": null,
   "metadata": {
    "id": "5kFr2IPd4ruT"
   },
   "outputs": [],
   "source": [
    "# que operación creen que significa **?\n",
    "\n",
    "25 ** (1/2)"
   ]
  },
  {
   "cell_type": "code",
   "source": [
    "5 ** 2"
   ],
   "metadata": {
    "id": "9M7kGNAc7uYq"
   },
   "execution_count": null,
   "outputs": []
  },
  {
   "cell_type": "markdown",
   "metadata": {
    "id": "NDqLs80D4ruT"
   },
   "source": [
    "## Operadores lógicos\n",
    "\n",
    "Es de mucha utilidad utilizar operadores para utilizar los datos satisfacen ciertas condiciones, ejecutar una sentencia si es verdadero, etc.\n",
    "\n",
    "En primera medida analizaremos condiciones simples:\n",
    "\n",
    "* x == y: x **es igual a** y\n",
    "* x != y: x **es distinto a** y\n",
    "* x > y : x **es mayor a** y\n",
    "* x < y : x **es menor a** y\n",
    "* x >= y: x **es mayor o igual a** y\n",
    "* x <= y: x **es menor o igual a** y\n",
    "\n",
    "Ahora probemos con un ejemplo de cada uno para reforzar el conocimiento:"
   ]
  },
  {
   "cell_type": "code",
   "execution_count": null,
   "metadata": {
    "id": "nx5iO9nX4ruT"
   },
   "outputs": [],
   "source": [
    "1 == 1"
   ]
  },
  {
   "cell_type": "code",
   "execution_count": null,
   "metadata": {
    "id": "Odfi9Sig4ruT"
   },
   "outputs": [],
   "source": [
    "1 != 1"
   ]
  },
  {
   "cell_type": "code",
   "execution_count": null,
   "metadata": {
    "id": "HVa_10wN4ruU"
   },
   "outputs": [],
   "source": [
    "1 > 0"
   ]
  },
  {
   "cell_type": "code",
   "execution_count": null,
   "metadata": {
    "id": "Jc4nwL4C4ruU"
   },
   "outputs": [],
   "source": [
    "1 < 2"
   ]
  },
  {
   "cell_type": "code",
   "execution_count": null,
   "metadata": {
    "id": "BUX20o7x4ruU"
   },
   "outputs": [],
   "source": [
    "1 >= 2"
   ]
  },
  {
   "cell_type": "code",
   "execution_count": null,
   "metadata": {
    "id": "pD18vimd4ruU"
   },
   "outputs": [],
   "source": [
    "1 <= 2"
   ]
  },
  {
   "cell_type": "markdown",
   "metadata": {
    "id": "dZAsa5h44ruU"
   },
   "source": [
    "Probemos ahora algunas comparaciones entre cadenas de texto y diferentes tipos de datos"
   ]
  },
  {
   "cell_type": "code",
   "execution_count": null,
   "metadata": {
    "id": "JzesQuSd4ruU"
   },
   "outputs": [],
   "source": [
    "\"hola\" == \"hola\""
   ]
  },
  {
   "cell_type": "code",
   "execution_count": null,
   "metadata": {
    "id": "Fxw201-14ruU"
   },
   "outputs": [],
   "source": [
    "\"hola\" == \"hol\""
   ]
  },
  {
   "cell_type": "code",
   "execution_count": null,
   "metadata": {
    "id": "-pbdf5Z_4ruU"
   },
   "outputs": [],
   "source": [
    "\"hala\" > \"hol\""
   ]
  },
  {
   "cell_type": "code",
   "execution_count": null,
   "metadata": {
    "id": "uJlj-Gq_4ruU"
   },
   "outputs": [],
   "source": [
    "1 == \"uno\""
   ]
  },
  {
   "cell_type": "code",
   "execution_count": null,
   "metadata": {
    "id": "qpGK4XP34ruU"
   },
   "outputs": [],
   "source": [
    "True == \"True\""
   ]
  },
  {
   "cell_type": "code",
   "execution_count": null,
   "metadata": {
    "id": "PhQUAVXP4ruU"
   },
   "outputs": [],
   "source": [
    "True == 1"
   ]
  },
  {
   "cell_type": "markdown",
   "metadata": {
    "id": "YZgChh564ruU"
   },
   "source": [
    "Ahora vamos a ver condicionales un poco mas complejos.\n",
    "\n",
    "Como haríamos si en vez de solamente necesitar que se cumpla una condición, buscamos que se cumplan dos o tres o n condiciones?\n",
    "\n",
    "Como bien pensaban, hay operadores que nos permiten verificar el cumplimiento de varias condiciones! Ellos son:\n",
    "\n",
    "* **and**: solo si se cumplen las dos condiciones la resultante es True.\n",
    "* **or**: si se cumple alguna de las dos condiciones la resultante es True.\n",
    "* **not**: da como resultado el opuesto de la condicion lógica interna.\n",
    "\n",
    "Probemos con unos ejemplos:"
   ]
  },
  {
   "cell_type": "code",
   "execution_count": null,
   "metadata": {
    "id": "Im0-YHb54ruU"
   },
   "outputs": [],
   "source": [
    "3 > 2 and 1 > 4"
   ]
  },
  {
   "cell_type": "code",
   "execution_count": null,
   "metadata": {
    "id": "0ZOhH5Hq4ruV"
   },
   "outputs": [],
   "source": [
    "3 > 2 and 3 > 1"
   ]
  },
  {
   "cell_type": "code",
   "execution_count": null,
   "metadata": {
    "id": "_DrocMhz4ruV"
   },
   "outputs": [],
   "source": [
    "False and False"
   ]
  },
  {
   "cell_type": "code",
   "execution_count": null,
   "metadata": {
    "id": "fAvVXbDK4ruV"
   },
   "outputs": [],
   "source": [
    "True or False"
   ]
  },
  {
   "cell_type": "code",
   "execution_count": null,
   "metadata": {
    "id": "4jH0lrk_4ruV"
   },
   "outputs": [],
   "source": [
    "True or True"
   ]
  },
  {
   "cell_type": "code",
   "execution_count": null,
   "metadata": {
    "id": "9AZcRm2_4ruV"
   },
   "outputs": [],
   "source": [
    "False or False"
   ]
  },
  {
   "cell_type": "code",
   "execution_count": null,
   "metadata": {
    "id": "8Vuwjzp54ruV"
   },
   "outputs": [],
   "source": [
    "not True"
   ]
  },
  {
   "cell_type": "code",
   "execution_count": null,
   "metadata": {
    "id": "L7GxQ47n4ruV"
   },
   "outputs": [],
   "source": [
    "not 1 > 3"
   ]
  },
  {
   "cell_type": "markdown",
   "metadata": {
    "id": "T3-_vYBT4ruV"
   },
   "source": [
    "## Variables\n",
    "\n",
    "Ya aprendimos bastante sobre los tipos de datos que se utilizan en Python, ahora nos preguntamos, donde se almacenan los datos que vamos a utilizar para trabajar?\n",
    "\n",
    "La respuesta es sencilla, **en variables!**\n",
    "\n",
    "Para asignar un valor a una variable, simplemente escribimos el nombre de la misma y la igualamos a lo que querramos asignarle.\n",
    "\n",
    "Es muy probable que por dentro nos preguntemos... no necesito definir que tipo de dato es el que va a almacenar la variable dentro? La respuesta es **NO**, Python se encargará de ello por nosotros.\n",
    "\n",
    "Ahora probemos asignar diferentes tipos de datos a las variables."
   ]
  },
  {
   "cell_type": "code",
   "execution_count": null,
   "metadata": {
    "id": "Jdx-YKc24ruV"
   },
   "outputs": [],
   "source": [
    "a = 5\n",
    "b = 10.5"
   ]
  },
  {
   "cell_type": "code",
   "execution_count": null,
   "metadata": {
    "id": "P0takzZN4ruV"
   },
   "outputs": [],
   "source": [
    "print(a)"
   ]
  },
  {
   "cell_type": "code",
   "execution_count": null,
   "metadata": {
    "id": "VbgqrsVR4ruV"
   },
   "outputs": [],
   "source": [
    "print(b)"
   ]
  },
  {
   "cell_type": "markdown",
   "metadata": {
    "id": "T3DZiPsu4ruW"
   },
   "source": [
    "Ahora vamos a analizar los tipos de datos de estas variables y hacer algunas operaciones con ellas"
   ]
  },
  {
   "cell_type": "code",
   "execution_count": null,
   "metadata": {
    "id": "f4KIRAX34ruW"
   },
   "outputs": [],
   "source": [
    "type(a)"
   ]
  },
  {
   "cell_type": "code",
   "execution_count": null,
   "metadata": {
    "id": "fEnuQVMA4ruW"
   },
   "outputs": [],
   "source": [
    "type(b)"
   ]
  },
  {
   "cell_type": "code",
   "execution_count": null,
   "metadata": {
    "id": "005u9P844ruW"
   },
   "outputs": [],
   "source": [
    "c = a + b"
   ]
  },
  {
   "cell_type": "code",
   "execution_count": null,
   "metadata": {
    "id": "XUNmwOcX4ruW"
   },
   "outputs": [],
   "source": [
    "c"
   ]
  },
  {
   "cell_type": "code",
   "execution_count": null,
   "metadata": {
    "id": "HBu9eNz74ruW"
   },
   "outputs": [],
   "source": [
    "type(c)"
   ]
  },
  {
   "cell_type": "markdown",
   "metadata": {
    "id": "8oYidrNF4ruW"
   },
   "source": [
    "## Trabajando con texto"
   ]
  },
  {
   "cell_type": "markdown",
   "metadata": {
    "id": "mmJ5Jg7C4ruW"
   },
   "source": [
    "### Metodos comunes"
   ]
  },
  {
   "cell_type": "code",
   "execution_count": null,
   "metadata": {
    "id": "YbqlTCwe4ruW"
   },
   "outputs": [],
   "source": [
    "string_1 = \"HOLA\"\n",
    "string_1 = string_1.lower()"
   ]
  },
  {
   "cell_type": "code",
   "source": [
    "string_1"
   ],
   "metadata": {
    "id": "trO6y6cV97xO"
   },
   "execution_count": null,
   "outputs": []
  },
  {
   "cell_type": "code",
   "execution_count": null,
   "metadata": {
    "id": "kbNAiV-X4ruW"
   },
   "outputs": [],
   "source": [
    "string_2 = \"hola\"\n",
    "string_2.upper()"
   ]
  },
  {
   "cell_type": "code",
   "execution_count": null,
   "metadata": {
    "id": "Pkwa8ljy4ruW"
   },
   "outputs": [],
   "source": [
    "string_3 = \"fede\"\n",
    "string_3.capitalize()"
   ]
  },
  {
   "cell_type": "code",
   "execution_count": null,
   "metadata": {
    "id": "l6bgORUu4ruW"
   },
   "outputs": [],
   "source": [
    "string_4 = \"Quiero saber cuantas veces esta la letra a\"\n",
    "string_4.count(\"a\")"
   ]
  },
  {
   "cell_type": "code",
   "execution_count": null,
   "metadata": {
    "id": "EvR9Oujp4ruW"
   },
   "outputs": [],
   "source": [
    "string_5 = \"Ahora me gustaria reemplazar una palabra\"\n",
    "string_5.replace(\"Ahora\", \"Mañana\")"
   ]
  },
  {
   "cell_type": "markdown",
   "metadata": {
    "id": "kAhALqwS4ruW"
   },
   "source": [
    "### Formatting"
   ]
  },
  {
   "cell_type": "markdown",
   "metadata": {
    "id": "9onOQyR24ruW"
   },
   "source": [
    "Veamos ahora como imprimir un mensaje que provea informacion de alguna variable."
   ]
  },
  {
   "cell_type": "code",
   "execution_count": null,
   "metadata": {
    "id": "cxblKp8W4ruX"
   },
   "outputs": [],
   "source": [
    "# Variables que queremos utilizar\n",
    "edad = 27\n",
    "nombre = \"Fede Cardoso\""
   ]
  },
  {
   "cell_type": "code",
   "execution_count": null,
   "metadata": {
    "id": "IKSaHiZX4ruX"
   },
   "outputs": [],
   "source": [
    "# Objetivo, crear un string que diga: Mi nombre es Fede Cardoso, y tengo 27 años\n",
    "\n",
    "print(f\"Mi nombre es {nombre}, y tengo {edad} años\")\n"
   ]
  },
  {
   "cell_type": "code",
   "execution_count": null,
   "metadata": {
    "id": "vlF-Xx_m4ruX"
   },
   "outputs": [],
   "source": [
    "# Tambien podemos utilizar esta forma\n",
    "\n",
    "print(\"Mi nombre es {}, y tengo {} años\".format(nombre, edad))"
   ]
  },
  {
   "cell_type": "code",
   "source": [],
   "metadata": {
    "id": "KR4zvs1b-sjX"
   },
   "execution_count": null,
   "outputs": []
  }
 ],
 "metadata": {
  "kernelspec": {
   "display_name": "uba",
   "language": "python",
   "name": "python3"
  },
  "language_info": {
   "codemirror_mode": {
    "name": "ipython",
    "version": 3
   },
   "file_extension": ".py",
   "mimetype": "text/x-python",
   "name": "python",
   "nbconvert_exporter": "python",
   "pygments_lexer": "ipython3",
   "version": "3.8.13"
  },
  "orig_nbformat": 4,
  "vscode": {
   "interpreter": {
    "hash": "1266eb91b2a4ddef0a124b3986740f649b4a347b423ef26f3674fe2ccca31684"
   }
  },
  "colab": {
   "provenance": [],
   "include_colab_link": true
  }
 },
 "nbformat": 4,
 "nbformat_minor": 0
}
