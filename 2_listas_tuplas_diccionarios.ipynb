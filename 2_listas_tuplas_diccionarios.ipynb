{
  "nbformat": 4,
  "nbformat_minor": 0,
  "metadata": {
    "colab": {
      "provenance": [],
      "authorship_tag": "ABX9TyPC/vSwZuvpbi8mHZX94cdc",
      "include_colab_link": true
    },
    "kernelspec": {
      "name": "python3",
      "display_name": "Python 3"
    },
    "language_info": {
      "name": "python"
    }
  },
  "cells": [
    {
      "cell_type": "markdown",
      "metadata": {
        "id": "view-in-github",
        "colab_type": "text"
      },
      "source": [
        "<a href=\"https://colab.research.google.com/github/cardosofede/curso-introduccion-python/blob/main/2_listas_tuplas_diccionarios.ipynb\" target=\"_parent\"><img src=\"https://colab.research.google.com/assets/colab-badge.svg\" alt=\"Open In Colab\"/></a>"
      ]
    },
    {
      "cell_type": "markdown",
      "source": [
        "## Estructuras de datos\n",
        "\n",
        "Ahora pensemos cuando trabajemos con muchos datos, es viable que asignemos cada uno a una variable? La respuesta es que si, pero no sería para nada eficiente!\n",
        "\n",
        "Python trae consigo varios tipos de estructuras de datos:\n",
        "\n",
        "* Listas\n",
        "* Set\n",
        "* Tuplas\n",
        "* Diccionarios\n",
        "\n",
        "Y tambien hay librerias que nos facilitan el manejo de datos como NumPy o Pandas, que nos ofrecen las siguientes estructuras que son de gran utilidad:\n",
        "\n",
        "* NumPy Array\n",
        "* Pandas DataFrame\n",
        "\n",
        "En este capitulo, solo veeremos la utilidad de las Listas, Set y Diccionarios"
      ],
      "metadata": {
        "id": "5nNZN157_2Sx"
      }
    },
    {
      "cell_type": "markdown",
      "source": [
        "### Listas\n",
        "\n",
        "Las listas permiten almacenar diferentes tipos de datos, acceder a ellos a través de indices, agregar datos, eliminar datos, etc.\n",
        "\n",
        "La sintaxis de una lista es la siguiente:\n",
        "\n",
        "    lista = [1, 2, 3]\n",
        "\n",
        "Para poder acceder a un valor de una lista se utiliza la siguiente sintaxis (es importante tener en cuenta que en Python, el primer elemento se referencia con el numero 0:\n",
        "\n",
        "    lista[0] = 1\n",
        "\n",
        "Tambien se pueden acceder a varios elementos de las listas, el primer valor indica el comienzo del recorte de la lista madre y el segundo el fin pero este último valor no esta incluido:\n",
        "\n",
        "    lista[0:2] = [1, 2]\n",
        "\n",
        "Veamos en la práctica otras formas de acceder a los datos y que métodos se pueden utilizar para trabajar con las listas!"
      ],
      "metadata": {
        "id": "VehAQdVyAZTr"
      }
    },
    {
      "cell_type": "code",
      "execution_count": null,
      "metadata": {
        "id": "Xkh5ZhQb_duo"
      },
      "outputs": [],
      "source": [
        "# las listas pueden tener diferentes tipos de datos\n",
        "\n",
        "lista_1 = [47, 'hola', True]"
      ]
    },
    {
      "cell_type": "code",
      "source": [
        "# veamos como se muestra la lista\n",
        "\n",
        "lista_1"
      ],
      "metadata": {
        "colab": {
          "base_uri": "https://localhost:8080/"
        },
        "id": "ySgDJL-nAcyC",
        "outputId": "f53b6a0e-40e5-40b2-82be-b1740543a9b1"
      },
      "execution_count": null,
      "outputs": [
        {
          "output_type": "execute_result",
          "data": {
            "text/plain": [
              "[47, 'hola', True]"
            ]
          },
          "metadata": {},
          "execution_count": 2
        }
      ]
    },
    {
      "cell_type": "code",
      "source": [
        "# verifiquemos que tipo de dato es\n",
        "\n",
        "type(lista_1)"
      ],
      "metadata": {
        "colab": {
          "base_uri": "https://localhost:8080/"
        },
        "id": "OqbxHOdRAd8n",
        "outputId": "f5e6ca27-9899-49b1-e15b-544048fc03ce"
      },
      "execution_count": null,
      "outputs": [
        {
          "output_type": "execute_result",
          "data": {
            "text/plain": [
              "list"
            ]
          },
          "metadata": {},
          "execution_count": 3
        }
      ]
    },
    {
      "cell_type": "code",
      "source": [
        "# si hacemos referencia al elemento 1, debería mostrarnos 'hola' segun vimos el funcionamiento de indices en Python.\n",
        "\n",
        "lista_1[1]"
      ],
      "metadata": {
        "colab": {
          "base_uri": "https://localhost:8080/",
          "height": 35
        },
        "id": "sRlmTajIAha8",
        "outputId": "4b938d09-5bd9-437f-d618-9ed7d61aff6f"
      },
      "execution_count": null,
      "outputs": [
        {
          "output_type": "execute_result",
          "data": {
            "text/plain": [
              "'hola'"
            ],
            "application/vnd.google.colaboratory.intrinsic+json": {
              "type": "string"
            }
          },
          "metadata": {},
          "execution_count": 5
        }
      ]
    },
    {
      "cell_type": "code",
      "source": [
        "# tambien podemos acceder a los datos de forma inversa... si elegimos el -1 que dato nos debería mostrar?\n",
        "\n",
        "lista_1[-1]"
      ],
      "metadata": {
        "colab": {
          "base_uri": "https://localhost:8080/"
        },
        "id": "5fuh_pBVAlge",
        "outputId": "7f35608d-d75f-4efb-d40d-f7ed8f43ffdc"
      },
      "execution_count": null,
      "outputs": [
        {
          "output_type": "execute_result",
          "data": {
            "text/plain": [
              "True"
            ]
          },
          "metadata": {},
          "execution_count": 6
        }
      ]
    },
    {
      "cell_type": "code",
      "source": [
        "# con el metodo .append() podemos agregar un campo al final de la lista\n",
        "\n",
        "lista_1.append('Este es un campo agregado')"
      ],
      "metadata": {
        "id": "R44x6SuWApkK"
      },
      "execution_count": null,
      "outputs": []
    },
    {
      "cell_type": "code",
      "source": [
        "# verifiquemos si se agrego correctamente\n",
        "\n",
        "lista_1"
      ],
      "metadata": {
        "colab": {
          "base_uri": "https://localhost:8080/"
        },
        "id": "0BPt28LpAraN",
        "outputId": "9f3894db-8b67-4899-c99b-f084bb9a77f1"
      },
      "execution_count": null,
      "outputs": [
        {
          "output_type": "execute_result",
          "data": {
            "text/plain": [
              "[47, 'hola', True, 'Este es un campo agregado']"
            ]
          },
          "metadata": {},
          "execution_count": 8
        }
      ]
    },
    {
      "cell_type": "code",
      "source": [
        "# creemos ahora una nueva lista para ver que operaciónes podemos realizar entre diferentes listas\n",
        "\n",
        "lista_2 = ['True', 47, 'Panda']"
      ],
      "metadata": {
        "id": "FJ558XTpAscK"
      },
      "execution_count": null,
      "outputs": []
    },
    {
      "cell_type": "code",
      "source": [
        "lista_3 = lista_1 + lista_2"
      ],
      "metadata": {
        "id": "YIBOTtRsAuRC"
      },
      "execution_count": null,
      "outputs": []
    },
    {
      "cell_type": "code",
      "source": [
        "lista_3"
      ],
      "metadata": {
        "colab": {
          "base_uri": "https://localhost:8080/"
        },
        "id": "0W1KL9eyAvp1",
        "outputId": "bfd3b80b-543c-48fa-e601-2b4018948963"
      },
      "execution_count": null,
      "outputs": [
        {
          "output_type": "execute_result",
          "data": {
            "text/plain": [
              "[47, 'hola', True, 'Este es un campo agregado', 'True', 47, 'Panda']"
            ]
          },
          "metadata": {},
          "execution_count": 11
        }
      ]
    },
    {
      "cell_type": "code",
      "source": [
        "# probemos hacer un slice en una lista\n",
        "\n",
        "lista_3[3:6]"
      ],
      "metadata": {
        "colab": {
          "base_uri": "https://localhost:8080/"
        },
        "id": "Z5p__TFsAw2W",
        "outputId": "e0ddbffb-3b91-480e-8c19-7ff0bd484879"
      },
      "execution_count": null,
      "outputs": [
        {
          "output_type": "execute_result",
          "data": {
            "text/plain": [
              "['Este es un campo agregado', 'True', 47]"
            ]
          },
          "metadata": {},
          "execution_count": 12
        }
      ]
    },
    {
      "cell_type": "code",
      "source": [
        "# que pasa si no colocamos el segundo valor?\n",
        "\n",
        "lista_3[3:]"
      ],
      "metadata": {
        "colab": {
          "base_uri": "https://localhost:8080/"
        },
        "id": "gLLa2BlIAyjH",
        "outputId": "894d6086-d8ad-43db-9977-916a258d619d"
      },
      "execution_count": null,
      "outputs": [
        {
          "output_type": "execute_result",
          "data": {
            "text/plain": [
              "['Este es un campo agregado', 'True', 47, 'Panda']"
            ]
          },
          "metadata": {},
          "execution_count": 13
        }
      ]
    },
    {
      "cell_type": "code",
      "source": [
        "# y si no colocamos el primero?\n",
        "\n",
        "lista_3[:2]"
      ],
      "metadata": {
        "colab": {
          "base_uri": "https://localhost:8080/"
        },
        "id": "lg7ShhuoA0H2",
        "outputId": "26ae912a-d8b1-464d-c4a7-7f4bcbb1d594"
      },
      "execution_count": null,
      "outputs": [
        {
          "output_type": "execute_result",
          "data": {
            "text/plain": [
              "[47, 'hola']"
            ]
          },
          "metadata": {},
          "execution_count": 14
        }
      ]
    },
    {
      "cell_type": "code",
      "source": [
        "# tambien se le puede indicar un paso a la lista para traer los valores, como creen que esta funcionando esta linea?\n",
        "\n",
        "lista_3[6: 4: -1]"
      ],
      "metadata": {
        "colab": {
          "base_uri": "https://localhost:8080/"
        },
        "id": "p2rDoMfbA127",
        "outputId": "868a4cc4-1b00-4119-babb-c21b88c8c718"
      },
      "execution_count": null,
      "outputs": [
        {
          "output_type": "execute_result",
          "data": {
            "text/plain": [
              "['Panda', 47]"
            ]
          },
          "metadata": {},
          "execution_count": 15
        }
      ]
    },
    {
      "cell_type": "code",
      "source": [
        "# el metodo .index() nos permite encontrar la ubicación de un campo en una lista\n",
        "\n",
        "posicion_panda = lista_3.index('Panda')"
      ],
      "metadata": {
        "id": "jtgeZ8SKA3p6"
      },
      "execution_count": null,
      "outputs": []
    },
    {
      "cell_type": "code",
      "source": [
        "posicion_panda"
      ],
      "metadata": {
        "colab": {
          "base_uri": "https://localhost:8080/"
        },
        "id": "TQiy2PPdA5Zt",
        "outputId": "182a1f03-f489-46bf-9461-2af57abf373e"
      },
      "execution_count": null,
      "outputs": [
        {
          "output_type": "execute_result",
          "data": {
            "text/plain": [
              "6"
            ]
          },
          "metadata": {},
          "execution_count": 18
        }
      ]
    },
    {
      "cell_type": "code",
      "source": [
        "# que pasa si buscamos el 47?\n",
        "\n",
        "posicion_47 = lista_3.index(47)"
      ],
      "metadata": {
        "id": "ZNxvrS1FA7PM"
      },
      "execution_count": null,
      "outputs": []
    },
    {
      "cell_type": "code",
      "source": [
        "posicion_47"
      ],
      "metadata": {
        "colab": {
          "base_uri": "https://localhost:8080/"
        },
        "id": "pc1NGxFAA9zl",
        "outputId": "d2f4e9d9-600f-40c0-a164-7ed9f291a372"
      },
      "execution_count": null,
      "outputs": [
        {
          "output_type": "execute_result",
          "data": {
            "text/plain": [
              "0"
            ]
          },
          "metadata": {},
          "execution_count": 20
        }
      ]
    },
    {
      "cell_type": "code",
      "source": [
        "# el metodo .pop() nos elimina un elemento de una lista a traves del index, y nos deja guardarlo en una variable!\n",
        "\n",
        "elemento_eliminado = lista_3.pop(posicion_panda)"
      ],
      "metadata": {
        "id": "jCsSlX1GA_aA"
      },
      "execution_count": null,
      "outputs": []
    },
    {
      "cell_type": "code",
      "source": [
        "# verifiquemos que se haya eliminado 'Panda' de la lista\n",
        "\n",
        "lista_3"
      ],
      "metadata": {
        "colab": {
          "base_uri": "https://localhost:8080/"
        },
        "id": "EoOzkxQNBCSt",
        "outputId": "d38240e4-f4d8-4f93-c291-bc389f53c220"
      },
      "execution_count": null,
      "outputs": [
        {
          "output_type": "execute_result",
          "data": {
            "text/plain": [
              "[47, 'hola', True, 'Este es un campo agregado', 'True', 47]"
            ]
          },
          "metadata": {},
          "execution_count": 22
        }
      ]
    },
    {
      "cell_type": "code",
      "source": [
        "# verifiquemos que se nos haya guardado correctamente el dato\n",
        "\n",
        "elemento_eliminado"
      ],
      "metadata": {
        "colab": {
          "base_uri": "https://localhost:8080/",
          "height": 35
        },
        "id": "34-0b75bBDx3",
        "outputId": "288e7643-3f8a-40cb-f215-c3d32c8eade9"
      },
      "execution_count": null,
      "outputs": [
        {
          "output_type": "execute_result",
          "data": {
            "text/plain": [
              "'Panda'"
            ],
            "application/vnd.google.colaboratory.intrinsic+json": {
              "type": "string"
            }
          },
          "metadata": {},
          "execution_count": 23
        }
      ]
    },
    {
      "cell_type": "markdown",
      "source": [
        "### SET\n",
        "Supongamos que solamente queremos saber los valores únicos de una lista... revisariamos uno por uno? La respuesta es **no**, utilizaría un Set!\n",
        "\n",
        "Para utilizarlo simplemente necesitas crear el set partiendo de una lista:\n",
        "\n",
        "      valores_unicos = set(lista)\n",
        "\n",
        "Veamos un ejemplo con animalesm, supongamos que tenemos una lista con los animales de los estudiantes de ciencias de datos y simplemente queremos saber cuales son sin repetirlos..."
      ],
      "metadata": {
        "id": "jv09TUcdBJ-L"
      }
    },
    {
      "cell_type": "code",
      "source": [
        "animales = ['perro', 'gato', 'perro', 'loro', 'gato', 'huron', 'liebre', 'conejo' , 'serpiente', 'huron', 'perro']"
      ],
      "metadata": {
        "id": "t1ROyMcqBE7y"
      },
      "execution_count": null,
      "outputs": []
    },
    {
      "cell_type": "code",
      "source": [
        "# simplemente pasamos la lista de animales para obtener los valores unicos!\n",
        "\n",
        "animales_unicos = set(animales)"
      ],
      "metadata": {
        "id": "LmsnB9HRBMqq"
      },
      "execution_count": null,
      "outputs": []
    },
    {
      "cell_type": "code",
      "source": [
        "animales_unicos"
      ],
      "metadata": {
        "colab": {
          "base_uri": "https://localhost:8080/"
        },
        "id": "uoLP8CXwBN0e",
        "outputId": "af61140c-5880-4c4c-c7dd-9aa91ce2a87b"
      },
      "execution_count": null,
      "outputs": [
        {
          "output_type": "execute_result",
          "data": {
            "text/plain": [
              "{'conejo', 'gato', 'huron', 'liebre', 'loro', 'perro', 'serpiente'}"
            ]
          },
          "metadata": {},
          "execution_count": 26
        }
      ]
    },
    {
      "cell_type": "markdown",
      "source": [
        "### Diccionarios\n",
        "\n",
        "Los diccionarios se utilizan para almacenar valores de datos en pares clave: valor.\n",
        "\n",
        "Un diccionario es una colección ordenada (a partir de Python 3.7), modificable y que no admite duplicados.\n",
        "\n",
        "**Operaciones:**\n",
        "* Acceder a elementos:\n",
        "      thisdict = {\"brand\": \"Ford\",\n",
        "                  \"model\": \"Mustang\",\n",
        "                  \"year\": 1964}\n",
        "      x = thisdict[\"model\"]\n",
        "\n",
        "      print(x)\n",
        "\n",
        "    Output:\n",
        "      \n",
        "      Mustang\n",
        "\n",
        "* El método keys () devolverá una lista de todas las claves en el diccionario\n",
        "\n",
        "      x = thisdict.keys()\n",
        "\n",
        "    Output:\n",
        "      \n",
        "      dict_keys(['brand', 'model', 'year'])\n",
        "\n",
        "* El método values ​​() devolverá una lista de todos los valores en el diccionario\n",
        "\n",
        "      x = thisdict.values()\n",
        "\n",
        "    Output:\n",
        "      \n",
        "      dict_values(['Ford', 'Mustang', 1964])\n",
        "\n",
        "* Para determinar si una clave específica está presente en un diccionario, use la palabra clave **in**\n",
        "      if \"model\" in thisdict:\n",
        "          print(\"Yes, 'model' is one of the keys in the thisdict dictionary\")\n",
        "\n",
        "    Output:\n",
        "      Yes, 'model' is one of the keys in the thisdict dictionary\n",
        "\n",
        "* Puede cambiar el valor de un elemento específico haciendo referencia a su nombre de clave:\n",
        "      thisdict[\"year\"] = 2018\n",
        "      print(thisdict)\n",
        "\n",
        "    Output:\n",
        "      {\"brand\": \"Ford\", \"model\": \"Mustang\", \"year\": 2018}\n",
        "\n",
        "* La adición de un elemento al diccionario se realiza utilizando una nueva clave de índice y asignándole un valor\n",
        "      thisdict[\"color\"] = \"red\"\n",
        "      print(thisdict)\n",
        "\n",
        "    Output:\n",
        "      {\"brand\": \"Ford\", \"model\": \"Mustang\", \"year\": 2018, \"color\": \"red\"}\n",
        "\n",
        "* El método pop() elimina el elemento con el nombre de clave especificado\n",
        "      thisdict.pop(\"model\")\n",
        "      print(thisdict)\n",
        "\n",
        "    Output:\n",
        "      {'brand': 'Ford', 'year': 2018}\n",
        "\n",
        "\n",
        "* El método popitem () elimina el último elemento insertado\n",
        "\n",
        "      thisdict =  {\"brand\": \"Ford\",\n",
        "                   \"model\": \"Mustang\",\n",
        "                   \"year\": 1964}\n",
        "\n",
        "                  thisdict.popitem()\n",
        "                  print(thisdict)\n",
        "    \n",
        "    Output:\n",
        "      {'brand': 'Ford', 'model': 'Mustang'}\n",
        "\n",
        "\n",
        "* Al recorrer un diccionario, el valor de retorno son las claves del diccionario, pero también existen métodos para devolver los valores.\n",
        "\n",
        "      for x in thisdict:\n",
        "          print(x)\n",
        "\n",
        "    Output:\n",
        "      brand\n",
        "      model\n",
        "      year\n",
        "\n",
        "* Imprimir todos los valores en el diccionario, uno por uno\n",
        "\n",
        "      for x in thisdict:\n",
        "          print(thistdict[x])\n",
        "\n",
        "* Se puede recorrer las claves y los valores mediante el método items():\n",
        "\n",
        "      for x, y in thisdict.items():\n",
        "          print(x, y)\n",
        "\n",
        "    Output:\n",
        "      brand Ford\n",
        "      model Mustang\n",
        "      year 1964\n"
      ],
      "metadata": {
        "id": "lTB9_PxeBRQJ"
      }
    },
    {
      "cell_type": "code",
      "source": [
        "# Construir un diccionario que tenga como keys (nombre, apelido, edad)\n",
        "\n",
        "diccionario1 = {\n",
        "    'nombre':'Juan',\n",
        "    'apellido':'Alonso',\n",
        "    'edad':'23'\n",
        "}"
      ],
      "metadata": {
        "id": "T6myFPxoBPK-"
      },
      "execution_count": null,
      "outputs": []
    },
    {
      "cell_type": "code",
      "source": [
        "# Obtener las claves del diccionario\n",
        "diccionario1.keys()"
      ],
      "metadata": {
        "colab": {
          "base_uri": "https://localhost:8080/"
        },
        "id": "rhhg6TM4Bf3W",
        "outputId": "969b8885-6e12-4a89-e41c-4573bc3eaf46"
      },
      "execution_count": null,
      "outputs": [
        {
          "output_type": "execute_result",
          "data": {
            "text/plain": [
              "dict_keys(['nombre', 'apellido', 'edad'])"
            ]
          },
          "metadata": {},
          "execution_count": 28
        }
      ]
    },
    {
      "cell_type": "code",
      "source": [
        "# Obtener los valores del diccionarios\n",
        "diccionario1.values()"
      ],
      "metadata": {
        "colab": {
          "base_uri": "https://localhost:8080/"
        },
        "id": "uMtvCOmkBjHn",
        "outputId": "a919280e-d3a4-4573-dded-4e7a086b306a"
      },
      "execution_count": null,
      "outputs": [
        {
          "output_type": "execute_result",
          "data": {
            "text/plain": [
              "dict_values(['Juan', 'Alonso', '23'])"
            ]
          },
          "metadata": {},
          "execution_count": 29
        }
      ]
    },
    {
      "cell_type": "code",
      "source": [
        "# Declarar una sentencia que imprima el valor de la edad si es que se encuentra presente\n",
        "\n",
        "if 'edad' in diccionario1:\n",
        "  print(diccionario1['edad'])"
      ],
      "metadata": {
        "colab": {
          "base_uri": "https://localhost:8080/"
        },
        "id": "HDpo1GfPBker",
        "outputId": "f99526aa-b2ee-4901-a28b-ba60f5935bb6"
      },
      "execution_count": null,
      "outputs": [
        {
          "output_type": "stream",
          "name": "stdout",
          "text": [
            "23\n"
          ]
        }
      ]
    },
    {
      "cell_type": "code",
      "source": [
        "# Cambiar el valor del key nombre por otro nombre de algun familiar que comparta apellido\n",
        "\n",
        "diccionario1['nombre'] = 'Ines'\n",
        "print(diccionario1)"
      ],
      "metadata": {
        "colab": {
          "base_uri": "https://localhost:8080/"
        },
        "id": "Pkxh8jntBmQd",
        "outputId": "752942d9-e2f8-4c2f-e822-b6e7562c6ba4"
      },
      "execution_count": null,
      "outputs": [
        {
          "output_type": "stream",
          "name": "stdout",
          "text": [
            "{'nombre': 'Ines', 'apellido': 'Alonso', 'edad': '23'}\n"
          ]
        }
      ]
    },
    {
      "cell_type": "code",
      "source": [
        "# Agregue al diccionario un key-value que sea declare la relacion con su familiar (ej: relacion: primo)\n",
        "\n",
        "diccionario1['relacion']= 'Hermana'\n",
        "print(diccionario1)"
      ],
      "metadata": {
        "colab": {
          "base_uri": "https://localhost:8080/"
        },
        "id": "jSs-1ksrBqDo",
        "outputId": "f37da433-59ab-4025-bf52-91eff49546d1"
      },
      "execution_count": null,
      "outputs": [
        {
          "output_type": "stream",
          "name": "stdout",
          "text": [
            "{'nombre': 'Ines', 'apellido': 'Alonso', 'edad': '23', 'relacion': 'Hermana'}\n"
          ]
        }
      ]
    },
    {
      "cell_type": "code",
      "source": [
        "# Eliminar el key de la edad del diccionario\n",
        "diccionario1.pop('edad')\n",
        "print(diccionario1)"
      ],
      "metadata": {
        "colab": {
          "base_uri": "https://localhost:8080/"
        },
        "id": "NC38LFeNBsCB",
        "outputId": "dff82e3a-1199-4228-e068-5d8351cc4c69"
      },
      "execution_count": null,
      "outputs": [
        {
          "output_type": "stream",
          "name": "stdout",
          "text": [
            "{'nombre': 'Ines', 'apellido': 'Alonso', 'relacion': 'Hermana'}\n"
          ]
        }
      ]
    },
    {
      "cell_type": "code",
      "source": [
        "# Armar un bucle for para recorrer el diccionario buscando la siguiente respuesta\n",
        "for x in diccionario1:\n",
        "  print(x)"
      ],
      "metadata": {
        "colab": {
          "base_uri": "https://localhost:8080/"
        },
        "id": "yOKn5aTzBvl4",
        "outputId": "03b63baa-c215-444c-920e-4927c4caefab"
      },
      "execution_count": null,
      "outputs": [
        {
          "output_type": "stream",
          "name": "stdout",
          "text": [
            "nombre\n",
            "apellido\n",
            "relacion\n"
          ]
        }
      ]
    },
    {
      "cell_type": "code",
      "source": [
        "# Como hacer para loopear por los key, values del diccionarios\n",
        "for key, value in diccionario1.items():\n",
        "  print(f\"Atributo: {key}   | Valor: {value}\")"
      ],
      "metadata": {
        "colab": {
          "base_uri": "https://localhost:8080/"
        },
        "id": "6hRqmlajBxDh",
        "outputId": "5bf296fb-69fd-43a4-82dd-5d1cec9a602d"
      },
      "execution_count": null,
      "outputs": [
        {
          "output_type": "stream",
          "name": "stdout",
          "text": [
            "Atributo: nombre   | Valor: Ines\n",
            "Atributo: apellido   | Valor: Alonso\n",
            "Atributo: relacion   | Valor: Hermana\n"
          ]
        }
      ]
    }
  ]
}