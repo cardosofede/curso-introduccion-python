{
  "nbformat": 4,
  "nbformat_minor": 0,
  "metadata": {
    "colab": {
      "provenance": [],
      "authorship_tag": "ABX9TyPgTQ6JIf3DtGAtH0X991Ie",
      "include_colab_link": true
    },
    "kernelspec": {
      "name": "python3",
      "display_name": "Python 3"
    },
    "language_info": {
      "name": "python"
    }
  },
  "cells": [
    {
      "cell_type": "markdown",
      "metadata": {
        "id": "view-in-github",
        "colab_type": "text"
      },
      "source": [
        "<a href=\"https://colab.research.google.com/github/cardosofede/curso-introduccion-python/blob/main/3_condicionales_y_bucles.ipynb\" target=\"_parent\"><img src=\"https://colab.research.google.com/assets/colab-badge.svg\" alt=\"Open In Colab\"/></a>"
      ]
    },
    {
      "cell_type": "markdown",
      "source": [
        "## Condicionales en Python\n",
        "\n",
        "¡Perfecto! Ahora que ya conoces las estructuras de datos básicas en Python, es hora de sumergirnos en el mundo de los condicionales. Los condicionales son fundamentales en cualquier lenguaje de programación, incluido Python, ya que nos permiten tomar decisiones en función de ciertas condiciones.\n",
        "\n",
        "### ¿Qué son los Condicionales?\n",
        "\n",
        "Imagina que estás escribiendo un programa y llegas a un punto donde necesitas tomar una decisión: si cierta condición es verdadera, queres que tu programa haga una cosa; si no, queres que haga otra. Aquí es donde entran en juego los condicionales.\n",
        "\n",
        "En Python, los condicionales más comunes son `if`, `elif` (que es la abreviatura de \"else if\") y `else`.\n",
        "\n",
        "### La Estructura Básica\n",
        "\n",
        "La estructura básica de un condicional en Python es bastante sencilla:\n",
        "\n",
        "```python\n",
        "if condicion:\n",
        "    # Hacer algo\n",
        "elif otra_condicion:\n",
        "    # Hacer otra cosa\n",
        "else:\n",
        "    # Hacer algo diferente\n",
        "```\n",
        "\n",
        "Cada `if`, `elif`, y `else` necesita una condición (excepto `else`, que se ejecuta si ninguna de las condiciones anteriores es verdadera). Python ejecuta el bloque de código que está indentado debajo de la condición que se cumple."
      ],
      "metadata": {
        "id": "yww4yf4nERlF"
      }
    },
    {
      "cell_type": "markdown",
      "source": [
        "### Ejemplos Prácticos\n",
        "\n",
        "Vamos a ver algunos ejemplos para entender mejor:\n",
        "\n",
        "1. **Ejemplo Básico:**\n",
        "\n",
        "    En este ejemplo, Python evalúa las condiciones una por una. Si `numero` es mayor que 5, imprime eso. Si no, verifica si es menor que 5. Si ninguna de estas condiciones es verdadera (lo que significa que el número es 5), se ejecuta el bloque `else`.\n"
      ],
      "metadata": {
        "id": "DqqE59O7E_Ds"
      }
    },
    {
      "cell_type": "code",
      "execution_count": null,
      "metadata": {
        "colab": {
          "base_uri": "https://localhost:8080/"
        },
        "id": "7JQBo0EvENFP",
        "outputId": "1be693ba-7663-4528-9e95-460f1c5bc6ca"
      },
      "outputs": [
        {
          "output_type": "stream",
          "name": "stdout",
          "text": [
            "El número es mayor que 5\n"
          ]
        }
      ],
      "source": [
        "numero = 10\n",
        "if numero > 5:\n",
        "    print(\"El número es mayor que 5\")\n",
        "elif numero < 5:\n",
        "    print(\"El número es menor que 5\")\n",
        "else:\n",
        "    print(\"El número es 5\")\n"
      ]
    },
    {
      "cell_type": "markdown",
      "source": [
        "2. **Trabajando con Listas:**\n",
        "\n",
        "    Imagina que tienes una lista de frutas y quieres verificar si una fruta específica está en la lista.\n",
        "    Aca, `if \"banana\" in frutas` es la condición. Si es verdadera (y en este caso, lo es), se ejecuta el código indentado debajo."
      ],
      "metadata": {
        "id": "x0X7BvpfFaYz"
      }
    },
    {
      "cell_type": "code",
      "source": [
        "frutas = [\"manzana\", \"banana\", \"pera\"]\n",
        "if \"banana\" in frutas:\n",
        "    print(\"¡Sí, banana está en la lista de frutas!\")"
      ],
      "metadata": {
        "colab": {
          "base_uri": "https://localhost:8080/"
        },
        "id": "6_HUKJMbFGSG",
        "outputId": "6bd4db60-80e4-402c-f40d-7624df542d77"
      },
      "execution_count": null,
      "outputs": [
        {
          "output_type": "stream",
          "name": "stdout",
          "text": [
            "¡Sí, banana está en la lista de frutas!\n"
          ]
        }
      ]
    },
    {
      "cell_type": "markdown",
      "source": [
        "3. **Clasificación por Edad:**\n",
        "\n",
        "    Imagina que tenemos que clasificar a los usuarios en diferentes categorías de edad entre niño, adolescente, adulto o adulto mayor."
      ],
      "metadata": {
        "id": "vhwM45h0GH9p"
      }
    },
    {
      "cell_type": "code",
      "source": [
        "edad = 20\n",
        "\n",
        "if edad < 13:\n",
        "    print(\"Niño\")\n",
        "elif edad < 18:\n",
        "    print(\"Adolescente\")\n",
        "elif edad < 60:\n",
        "    print(\"Adulto\")\n",
        "else:\n",
        "    print(\"Adulto mayor\")"
      ],
      "metadata": {
        "colab": {
          "base_uri": "https://localhost:8080/"
        },
        "id": "gNKnWE_RGTRv",
        "outputId": "05c62b9b-575d-4d06-99f5-4acdbdfe64ae"
      },
      "execution_count": null,
      "outputs": [
        {
          "output_type": "stream",
          "name": "stdout",
          "text": [
            "Adulto\n"
          ]
        }
      ]
    },
    {
      "cell_type": "markdown",
      "source": [
        "4. **Acceso a Contenido Basado en la Edad:**\n",
        "\n",
        "    Supongamos que tenemos un sitio web que restringe el acceso a ciertos contenidos según la edad del usuario."
      ],
      "metadata": {
        "id": "_F2efaoNGWks"
      }
    },
    {
      "cell_type": "code",
      "source": [
        "edad_usuario = 17\n",
        "contenido_adulto = False\n",
        "\n",
        "if edad_usuario >= 18:\n",
        "    contenido_adulto = True\n",
        "\n",
        "if contenido_adulto:\n",
        "    print(\"Acceso concedido al contenido para adultos.\")\n",
        "else:\n",
        "    print(\"Acceso restringido. Debes ser mayor de 18 años.\")"
      ],
      "metadata": {
        "colab": {
          "base_uri": "https://localhost:8080/"
        },
        "id": "HyXonsjGGvus",
        "outputId": "f15f5e15-db5a-42e9-c60d-b764e54426c3"
      },
      "execution_count": null,
      "outputs": [
        {
          "output_type": "stream",
          "name": "stdout",
          "text": [
            "Acceso restringido. Debes ser mayor de 18 años.\n"
          ]
        }
      ]
    },
    {
      "cell_type": "markdown",
      "source": [
        "5.  **Descuentos en una compra**\n",
        "\n",
        "    Considera un programa para una tienda que aplica descuentos según el monto de compra."
      ],
      "metadata": {
        "id": "6KDyb4dfGyXf"
      }
    },
    {
      "cell_type": "code",
      "source": [
        "monto_compra = 150\n",
        "\n",
        "if monto_compra > 100:\n",
        "    descuento = 10  # 10% de descuento\n",
        "elif monto_compra >= 50:\n",
        "    descuento = 5   # 5% de descuento\n",
        "else:\n",
        "    descuento = 0   # Sin descuento\n",
        "\n",
        "precio_final = monto_compra * (1 - descuento / 100)\n",
        "print(f\"El precio final con descuento es: {precio_final}\")"
      ],
      "metadata": {
        "colab": {
          "base_uri": "https://localhost:8080/"
        },
        "id": "bFWpLh7GG-lO",
        "outputId": "41008a0d-53fb-47fe-8350-a6b716694503"
      },
      "execution_count": null,
      "outputs": [
        {
          "output_type": "stream",
          "name": "stdout",
          "text": [
            "El precio final con descuento es: 135.0\n"
          ]
        }
      ]
    },
    {
      "cell_type": "markdown",
      "source": [
        "6.  **Calificaciones Escolares**\n",
        "\n",
        "    Un programa que convierte una puntuación numérica en una calificación por letras."
      ],
      "metadata": {
        "id": "Tr9TKz5NHTfH"
      }
    },
    {
      "cell_type": "code",
      "source": [
        "puntuacion = 85\n",
        "\n",
        "if puntuacion >= 90:\n",
        "    calificacion = \"A\"\n",
        "elif puntuacion >= 80:\n",
        "    calificacion = \"B\"\n",
        "elif puntuacion >= 70:\n",
        "    calificacion = \"C\"\n",
        "elif puntuacion >= 60:\n",
        "    calificacion = \"D\"\n",
        "else:\n",
        "    calificacion = \"F\"\n",
        "\n",
        "print(f\"Tu calificación es: {calificacion}\")"
      ],
      "metadata": {
        "colab": {
          "base_uri": "https://localhost:8080/"
        },
        "id": "t0oNCCdpHXIw",
        "outputId": "e00aa5e3-e850-4b98-b661-d878df87a85e"
      },
      "execution_count": null,
      "outputs": [
        {
          "output_type": "stream",
          "name": "stdout",
          "text": [
            "Tu calificación es: B\n"
          ]
        }
      ]
    },
    {
      "cell_type": "markdown",
      "source": [
        "7.  **Mensajes Personalizados según la Hora del Día**\n",
        "\n",
        "    Un programa que muestra un mensaje de saludo dependiendo de la hora del día."
      ],
      "metadata": {
        "id": "dmzIQYRiHaot"
      }
    },
    {
      "cell_type": "code",
      "source": [
        "hora = 18  # formato 24 horas\n",
        "\n",
        "if hora < 12:\n",
        "    print(\"Buenos días!\")\n",
        "elif hora < 18:\n",
        "    print(\"Buenas tardes!\")\n",
        "else:\n",
        "    print(\"Buenas noches!\")\n"
      ],
      "metadata": {
        "colab": {
          "base_uri": "https://localhost:8080/"
        },
        "id": "dklg6b-ZHeiR",
        "outputId": "9b31c157-0601-452a-b6a6-c00d2fa589ee"
      },
      "execution_count": null,
      "outputs": [
        {
          "output_type": "stream",
          "name": "stdout",
          "text": [
            "Buenas noches!\n"
          ]
        }
      ]
    },
    {
      "cell_type": "markdown",
      "source": [
        "### Consejos Finales\n",
        "\n",
        "- La indentación es crucial en Python y es lo que define el bloque de código que se ejecuta como parte del condicional.\n",
        "- Puedes tener múltiples `elif` después de un `if`, pero solo un `else` al final.\n",
        "- Los condicionales pueden anidarse dentro de otros condicionales, pero ten cuidado de no hacerlo demasiado complicado, ya que puede hacer que tu código sea difícil de leer.\n",
        "\n",
        "Al igual que las estructuras de datos, los condicionales son una herramienta esencial en tu caja de herramientas de Python. Te permiten escribir programas que pueden tomar decisiones y responder de manera diferente según diferentes entradas y situaciones. ¡Practica con algunos ejemplos y verás lo útiles que pueden ser!"
      ],
      "metadata": {
        "id": "IfcWsc6yFlJn"
      }
    },
    {
      "cell_type": "markdown",
      "source": [
        "## Bucles en Python: For y While\n",
        "\n",
        "Ahora vamos a explorar otro concepto fundamental en la programación: los bucles. Los bucles son increíblemente útiles porque nos permiten ejecutar un bloque de código repetidas veces con algunas variaciones. En Python, los dos tipos principales de bucles son `for` y `while`.\n",
        "\n",
        "### Bucle For\n",
        "\n",
        "El bucle `for` en Python es utilizado para iterar sobre una secuencia (que puede ser una lista, una tupla, un diccionario, etc.).\n",
        "\n",
        "La estructura básica es:\n",
        "\n",
        "```python\n",
        "for elemento in secuencia:\n",
        "    # hace algo con elemento\n",
        "```\n",
        "\n",
        "### Bucle While\n",
        "\n",
        "El bucle `while` sigue ejecutándose mientras una condición específica sea verdadera.\n",
        "\n",
        "Su estructura es:\n",
        "\n",
        "```python\n",
        "while condicion:\n",
        "    # hace algo mientras condicion sea verdadera\n",
        "```"
      ],
      "metadata": {
        "id": "A5UjeXWmLCCH"
      }
    },
    {
      "cell_type": "markdown",
      "source": [
        "### Ejemplos Prácticos\n",
        "\n",
        "Vamos a ver algunos ejemplos para entender mejor cómo funcionan estos bucles.\n",
        "\n",
        "#### Ejemplo 1: Iterar sobre una Lista\n",
        "\n",
        "Supongamos que tienes una lista de frutas y quieres imprimir cada una de ellas."
      ],
      "metadata": {
        "id": "ZFSwQDXzLagw"
      }
    },
    {
      "cell_type": "code",
      "source": [
        "frutas = [\"manzana\", \"banana\", \"cereza\"]\n",
        "for fruta in frutas:\n",
        "    print(fruta)"
      ],
      "metadata": {
        "colab": {
          "base_uri": "https://localhost:8080/"
        },
        "id": "g-sSyJ1TLfCN",
        "outputId": "c71d5055-fa45-4128-da7d-d7d529f61389"
      },
      "execution_count": null,
      "outputs": [
        {
          "output_type": "stream",
          "name": "stdout",
          "text": [
            "manzana\n",
            "banana\n",
            "cereza\n"
          ]
        }
      ]
    },
    {
      "cell_type": "markdown",
      "source": [
        "#### Ejemplo 2: Usando un Rango\n",
        "\n",
        "Si quieres repetir una acción un número específico de veces, puedes combinar `for` con `range()`.\n"
      ],
      "metadata": {
        "id": "pD3yv0BeLhrk"
      }
    },
    {
      "cell_type": "code",
      "source": [
        "for i in range(5):\n",
        "    print(\"Estoy aprendiendo Python!\")"
      ],
      "metadata": {
        "colab": {
          "base_uri": "https://localhost:8080/"
        },
        "id": "ytN0byOYLkYn",
        "outputId": "a221651b-d3a6-4d9f-c2c1-c489ad850fa3"
      },
      "execution_count": null,
      "outputs": [
        {
          "output_type": "stream",
          "name": "stdout",
          "text": [
            "Estoy aprendiendo Python!\n",
            "Estoy aprendiendo Python!\n",
            "Estoy aprendiendo Python!\n",
            "Estoy aprendiendo Python!\n",
            "Estoy aprendiendo Python!\n"
          ]
        }
      ]
    },
    {
      "cell_type": "markdown",
      "source": [
        "#### Ejemplo 3: Bucle While\n",
        "\n",
        "Vamos a usar un bucle `while` para contar hacia atrás desde 5 hasta 1.\n"
      ],
      "metadata": {
        "id": "Lwo47PVgLoLM"
      }
    },
    {
      "cell_type": "code",
      "source": [
        "contador = 5\n",
        "while contador > 0:\n",
        "    print(contador)\n",
        "    contador -= 1"
      ],
      "metadata": {
        "colab": {
          "base_uri": "https://localhost:8080/"
        },
        "id": "U3JseE6VLrNs",
        "outputId": "d3b5bffb-15c5-4c04-9048-bee163391b6f"
      },
      "execution_count": null,
      "outputs": [
        {
          "output_type": "stream",
          "name": "stdout",
          "text": [
            "5\n",
            "4\n",
            "3\n",
            "2\n",
            "1\n"
          ]
        }
      ]
    },
    {
      "cell_type": "markdown",
      "source": [
        "#### Ejemplo 4: Bucle For con Diccionarios\n",
        "\n",
        "Si tienes un diccionario, puedes iterar a través de sus pares clave-valor."
      ],
      "metadata": {
        "id": "MnUzXmSyLuQ2"
      }
    },
    {
      "cell_type": "code",
      "source": [
        "capitales = {\"España\": \"Madrid\", \"Francia\": \"París\", \"Italia\": \"Roma\"}\n",
        "for pais, capital in capitales.items():\n",
        "    print(f\"La capital de {pais} es {capital}\")"
      ],
      "metadata": {
        "colab": {
          "base_uri": "https://localhost:8080/"
        },
        "id": "0f1q2zWdLxnP",
        "outputId": "39ec16a7-068a-4020-84c4-92a17227095f"
      },
      "execution_count": null,
      "outputs": [
        {
          "output_type": "stream",
          "name": "stdout",
          "text": [
            "La capital de España es Madrid\n",
            "La capital de Francia es París\n",
            "La capital de Italia es Roma\n"
          ]
        }
      ]
    },
    {
      "cell_type": "markdown",
      "source": [
        "#### Ejemplo 5: Bucle While con una Condición de Salida\n",
        "\n",
        "A veces, quieres que un bucle `while` se ejecute hasta que se cumpla una condición específica.\n"
      ],
      "metadata": {
        "id": "oapUJyLaL0Jl"
      }
    },
    {
      "cell_type": "code",
      "source": [
        "respuesta = \"\"\n",
        "while respuesta != \"no\":\n",
        "    respuesta = input(\"¿Deseas continuar? (escribe 'no' para salir) \")"
      ],
      "metadata": {
        "colab": {
          "base_uri": "https://localhost:8080/",
          "height": 356
        },
        "id": "Cs11SyxRL5zI",
        "outputId": "84ee6e6b-d3c6-4344-e44f-04a22c2b78e6"
      },
      "execution_count": null,
      "outputs": [
        {
          "output_type": "error",
          "ename": "KeyboardInterrupt",
          "evalue": "ignored",
          "traceback": [
            "\u001b[0;31m---------------------------------------------------------------------------\u001b[0m",
            "\u001b[0;31mKeyboardInterrupt\u001b[0m                         Traceback (most recent call last)",
            "\u001b[0;32m<ipython-input-20-1c2c5b7d9a2f>\u001b[0m in \u001b[0;36m<cell line: 2>\u001b[0;34m()\u001b[0m\n\u001b[1;32m      1\u001b[0m \u001b[0mrespuesta\u001b[0m \u001b[0;34m=\u001b[0m \u001b[0;34m\"\"\u001b[0m\u001b[0;34m\u001b[0m\u001b[0;34m\u001b[0m\u001b[0m\n\u001b[1;32m      2\u001b[0m \u001b[0;32mwhile\u001b[0m \u001b[0mrespuesta\u001b[0m \u001b[0;34m!=\u001b[0m \u001b[0;34m\"no\"\u001b[0m\u001b[0;34m:\u001b[0m\u001b[0;34m\u001b[0m\u001b[0;34m\u001b[0m\u001b[0m\n\u001b[0;32m----> 3\u001b[0;31m     \u001b[0mrespuesta\u001b[0m \u001b[0;34m=\u001b[0m \u001b[0minput\u001b[0m\u001b[0;34m(\u001b[0m\u001b[0;34m\"¿Deseas continuar? (escribe 'no' para salir) \"\u001b[0m\u001b[0;34m)\u001b[0m\u001b[0;34m\u001b[0m\u001b[0;34m\u001b[0m\u001b[0m\n\u001b[0m",
            "\u001b[0;32m/usr/local/lib/python3.10/dist-packages/ipykernel/kernelbase.py\u001b[0m in \u001b[0;36mraw_input\u001b[0;34m(self, prompt)\u001b[0m\n\u001b[1;32m    849\u001b[0m                 \u001b[0;34m\"raw_input was called, but this frontend does not support input requests.\"\u001b[0m\u001b[0;34m\u001b[0m\u001b[0;34m\u001b[0m\u001b[0m\n\u001b[1;32m    850\u001b[0m             )\n\u001b[0;32m--> 851\u001b[0;31m         return self._input_request(str(prompt),\n\u001b[0m\u001b[1;32m    852\u001b[0m             \u001b[0mself\u001b[0m\u001b[0;34m.\u001b[0m\u001b[0m_parent_ident\u001b[0m\u001b[0;34m,\u001b[0m\u001b[0;34m\u001b[0m\u001b[0;34m\u001b[0m\u001b[0m\n\u001b[1;32m    853\u001b[0m             \u001b[0mself\u001b[0m\u001b[0;34m.\u001b[0m\u001b[0m_parent_header\u001b[0m\u001b[0;34m,\u001b[0m\u001b[0;34m\u001b[0m\u001b[0;34m\u001b[0m\u001b[0m\n",
            "\u001b[0;32m/usr/local/lib/python3.10/dist-packages/ipykernel/kernelbase.py\u001b[0m in \u001b[0;36m_input_request\u001b[0;34m(self, prompt, ident, parent, password)\u001b[0m\n\u001b[1;32m    893\u001b[0m             \u001b[0;32mexcept\u001b[0m \u001b[0mKeyboardInterrupt\u001b[0m\u001b[0;34m:\u001b[0m\u001b[0;34m\u001b[0m\u001b[0;34m\u001b[0m\u001b[0m\n\u001b[1;32m    894\u001b[0m                 \u001b[0;31m# re-raise KeyboardInterrupt, to truncate traceback\u001b[0m\u001b[0;34m\u001b[0m\u001b[0;34m\u001b[0m\u001b[0m\n\u001b[0;32m--> 895\u001b[0;31m                 \u001b[0;32mraise\u001b[0m \u001b[0mKeyboardInterrupt\u001b[0m\u001b[0;34m(\u001b[0m\u001b[0;34m\"Interrupted by user\"\u001b[0m\u001b[0;34m)\u001b[0m \u001b[0;32mfrom\u001b[0m \u001b[0;32mNone\u001b[0m\u001b[0;34m\u001b[0m\u001b[0;34m\u001b[0m\u001b[0m\n\u001b[0m\u001b[1;32m    896\u001b[0m             \u001b[0;32mexcept\u001b[0m \u001b[0mException\u001b[0m \u001b[0;32mas\u001b[0m \u001b[0me\u001b[0m\u001b[0;34m:\u001b[0m\u001b[0;34m\u001b[0m\u001b[0;34m\u001b[0m\u001b[0m\n\u001b[1;32m    897\u001b[0m                 \u001b[0mself\u001b[0m\u001b[0;34m.\u001b[0m\u001b[0mlog\u001b[0m\u001b[0;34m.\u001b[0m\u001b[0mwarning\u001b[0m\u001b[0;34m(\u001b[0m\u001b[0;34m\"Invalid Message:\"\u001b[0m\u001b[0;34m,\u001b[0m \u001b[0mexc_info\u001b[0m\u001b[0;34m=\u001b[0m\u001b[0;32mTrue\u001b[0m\u001b[0;34m)\u001b[0m\u001b[0;34m\u001b[0m\u001b[0;34m\u001b[0m\u001b[0m\n",
            "\u001b[0;31mKeyboardInterrupt\u001b[0m: Interrupted by user"
          ]
        }
      ]
    },
    {
      "cell_type": "markdown",
      "source": [
        "### Consejos Finales\n",
        "\n",
        "- Es importante asegurarse de que los bucles `while` tengan una condición de salida clara para evitar bucles infinitos.\n",
        "- Los bucles `for` son ideales para iterar sobre secuencias de elementos.\n",
        "- Puedes usar `break` para salir de un bucle y `continue` para saltar al siguiente ciclo de iteración.\n",
        "\n",
        "Los bucles son una herramienta poderosa que te permiten automatizar tareas repetitivas de manera eficiente. Experimenta con estos ejemplos y trata de crear los tuyos para entender mejor cómo funcionan. ¡La práctica es esencial para dominar los bucles en Python!"
      ],
      "metadata": {
        "id": "whPTOpByMDzl"
      }
    }
  ]
}